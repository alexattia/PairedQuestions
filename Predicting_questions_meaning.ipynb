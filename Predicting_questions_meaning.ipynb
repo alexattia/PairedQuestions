{
 "cells": [
  {
   "cell_type": "code",
   "execution_count": 2,
   "metadata": {
    "ExecuteTime": {
     "end_time": "2018-01-30T15:31:42.018925Z",
     "start_time": "2018-01-30T15:31:42.010594Z"
    }
   },
   "outputs": [],
   "source": [
    "from collections import defaultdict, Counter\n",
    "import numpy as np\n",
    "import pandas as pd\n",
    "from nltk.corpus import stopwords\n",
    "from sklearn.metrics import log_loss\n",
    "from sklearn.cross_validation import train_test_split\n",
    "import argparse\n",
    "import functools\n",
    "# Our features\n",
    "import feature_engineering\n",
    "# XGBoost library\n",
    "import xgboost as xgb\n",
    "from xgboost import XGBClassifier"
   ]
  },
  {
   "cell_type": "markdown",
   "metadata": {},
   "source": [
    "### Feature engineering "
   ]
  },
  {
   "cell_type": "code",
   "execution_count": 3,
   "metadata": {
    "ExecuteTime": {
     "end_time": "2018-01-30T15:33:29.803848Z",
     "start_time": "2018-01-30T15:32:52.472401Z"
    }
   },
   "outputs": [],
   "source": [
    "initial_train, initial_test = feature_engineering.create_preprocessed_features()"
   ]
  },
  {
   "cell_type": "code",
   "execution_count": 5,
   "metadata": {
    "ExecuteTime": {
     "end_time": "2018-01-30T15:39:01.119411Z",
     "start_time": "2018-01-30T15:35:35.211072Z"
    }
   },
   "outputs": [
    {
     "name": "stderr",
     "output_type": "stream",
     "text": [
      "/home/alexattia/anaconda3/lib/python3.6/site-packages/sklearn/feature_extraction/text.py:1089: FutureWarning: Conversion of the second argument of issubdtype from `float` to `np.floating` is deprecated. In future, it will be treated as `np.float64 == np.dtype(float).type`.\n",
      "  if hasattr(X, 'dtype') and np.issubdtype(X.dtype, np.float):\n",
      "/home/alexattia/Work/work_env/lib/python3.6/site-packages/numpy/core/fromnumeric.py:2957: RuntimeWarning: Mean of empty slice.\n",
      "  out=out, **kwargs)\n",
      "/home/alexattia/Work/work_env/lib/python3.6/site-packages/numpy/core/_methods.py:80: RuntimeWarning: invalid value encountered in double_scalars\n",
      "  ret = ret.dtype.type(ret / rcount)\n"
     ]
    }
   ],
   "source": [
    "tfidf_train, tfidf_test = feature_engineering.create_tfidf_features()"
   ]
  },
  {
   "cell_type": "code",
   "execution_count": 7,
   "metadata": {
    "ExecuteTime": {
     "end_time": "2018-01-30T15:40:24.665420Z",
     "start_time": "2018-01-30T15:40:06.339614Z"
    }
   },
   "outputs": [],
   "source": [
    "pr_train, pr_test = feature_engineering.create_pagerank_features()"
   ]
  },
  {
   "cell_type": "code",
   "execution_count": 9,
   "metadata": {
    "ExecuteTime": {
     "end_time": "2018-01-30T15:40:45.530658Z",
     "start_time": "2018-01-30T15:40:45.476612Z"
    }
   },
   "outputs": [
    {
     "data": {
      "text/plain": [
       "((80100, 54), (20179, 54))"
      ]
     },
     "execution_count": 9,
     "metadata": {},
     "output_type": "execute_result"
    }
   ],
   "source": [
    "X_train = pd.concat([initial_train, tfidf_train, pr_train], axis=1)\n",
    "X_test = pd.concat([initial_test, tfidf_test, pr_test], axis=1)\n",
    "X_train.shape, X_test.shape"
   ]
  },
  {
   "cell_type": "code",
   "execution_count": null,
   "metadata": {},
   "outputs": [],
   "source": [
    "X_train, X_valid, y_train, y_valid = train_test_split(X_train, y_train, test_size=0.1, random_state=4242)"
   ]
  },
  {
   "cell_type": "code",
   "execution_count": null,
   "metadata": {},
   "outputs": [],
   "source": [
    "X_train = X_train.drop([\"question1\", \"question2\", \"question1_nouns\", \"question2_nouns\"],\n",
    "                      axis=1)\n",
    "X_valid = X_valid.drop([\"question1\", \"question2\", \"question1_nouns\", \"question2_nouns\"],\n",
    "                      axis=1)\n",
    "X_test = X_test.drop([\"question1\", \"question2\", \"question1_nouns\", \"question2_nouns\"],\n",
    "                      axis=1)"
   ]
  },
  {
   "cell_type": "markdown",
   "metadata": {},
   "source": [
    "### XGBoost "
   ]
  },
  {
   "cell_type": "markdown",
   "metadata": {
    "ExecuteTime": {
     "end_time": "2018-01-30T15:39:01.121592Z",
     "start_time": "2018-01-30T15:39:01.120349Z"
    }
   },
   "source": [
    "#### Simple model"
   ]
  },
  {
   "cell_type": "code",
   "execution_count": null,
   "metadata": {},
   "outputs": [],
   "source": [
    "# Finetuned parameters\n",
    "params = {}\n",
    "params['objective'] = 'binary:logistic'\n",
    "params['eval_metric'] = 'logloss'\n",
    "params['eta'] = 0.02\n",
    "params['n_jobs'] = 5\n",
    "params['max_depth'] = 6\n",
    "params['subsample'] = 0.6\n",
    "params['base_score'] = 0.2\n",
    "\n",
    "d_train = xgb.DMatrix(X_train, label=y_train)\n",
    "d_valid = xgb.DMatrix(X_valid, label=y_valid)\n",
    "\n",
    "watchlist = [(d_train, 'train'), (d_valid, 'valid')]"
   ]
  },
  {
   "cell_type": "code",
   "execution_count": null,
   "metadata": {},
   "outputs": [],
   "source": [
    "bst = xgb.train(params, d_train, 2500, watchlist, early_stopping_rounds=50, verbose_eval=200)\n",
    "print(log_loss(y_valid, bst.predict(d_valid)))"
   ]
  },
  {
   "cell_type": "code",
   "execution_count": null,
   "metadata": {},
   "outputs": [],
   "source": [
    "d_test = xgb.DMatrix(X_test)\n",
    "p_test = bst.predict(d_test, ntree_limit=bst.best_ntree_limit)"
   ]
  },
  {
   "cell_type": "markdown",
   "metadata": {},
   "source": [
    "#### Multi XGBoost for averaging"
   ]
  },
  {
   "cell_type": "code",
   "execution_count": null,
   "metadata": {},
   "outputs": [],
   "source": [
    "df_tot = pd.DataFrame()\n",
    "for i in range(9):\n",
    "    np.random.seed(i+1)\n",
    "    params = {}\n",
    "    params['objective'] = 'binary:logistic'\n",
    "    params['eval_metric'] = 'logloss'\n",
    "    et = [.02,.025,.01,.015]\n",
    "    params['eta'] = np.random.choice(et)\n",
    "    params['n_jobs'] = 5\n",
    "    depth = [4,5,6,7]\n",
    "    params['max_depth'] = np.random.choice(depth)\n",
    "    sub = [.5,.6,.7,.4]\n",
    "    params['subsample'] = np.random.choice(sub)\n",
    "    params['base_score'] = 0.2\n",
    "    col = [1,.7]\n",
    "    params['colsample_bytree'] = np.random.choice(col)\n",
    "\n",
    "    d_train = xgb.DMatrix(X_train, label=y_train)\n",
    "    d_valid = xgb.DMatrix(X_valid, label=y_valid)\n",
    "\n",
    "    watchlist = [(d_train, 'train'), (d_valid, 'valid')]\n",
    "    bst = xgb.train(params, d_train, 2500, watchlist, early_stopping_rounds=50, verbose_eval=2500)\n",
    "\n",
    "    d_test = xgb.DMatrix(X_test)\n",
    "    p_test = bst.predict(d_test, ntree_limit=bst.best_ntree_limit)\n",
    "    df_tot[str('fold'+ str(i+1))] = p_test"
   ]
  },
  {
   "cell_type": "markdown",
   "metadata": {},
   "source": [
    "#### LSTM"
   ]
  },
  {
   "cell_type": "code",
   "execution_count": null,
   "metadata": {},
   "outputs": [],
   "source": []
  },
  {
   "cell_type": "markdown",
   "metadata": {},
   "source": [
    "#### Averaging"
   ]
  },
  {
   "cell_type": "code",
   "execution_count": null,
   "metadata": {},
   "outputs": [],
   "source": []
  }
 ],
 "metadata": {
  "kernelspec": {
   "display_name": "TensorFlow",
   "language": "python",
   "name": "work_env"
  },
  "language_info": {
   "codemirror_mode": {
    "name": "ipython",
    "version": 3
   },
   "file_extension": ".py",
   "mimetype": "text/x-python",
   "name": "python",
   "nbconvert_exporter": "python",
   "pygments_lexer": "ipython3",
   "version": "3.6.3"
  },
  "toc": {
   "nav_menu": {},
   "number_sections": true,
   "sideBar": true,
   "skip_h1_title": false,
   "toc_cell": false,
   "toc_position": {},
   "toc_section_display": "block",
   "toc_window_display": false
  }
 },
 "nbformat": 4,
 "nbformat_minor": 2
}
