{
 "cells": [
  {
   "cell_type": "code",
   "execution_count": 19,
   "metadata": {
    "ExecuteTime": {
     "end_time": "2018-01-30T18:08:29.652107Z",
     "start_time": "2018-01-30T18:08:29.644291Z"
    },
    "collapsed": true
   },
   "outputs": [],
   "source": [
    "from collections import defaultdict, Counter\n",
    "import numpy as np\n",
    "import pandas as pd\n",
    "from nltk.corpus import stopwords\n",
    "from sklearn.metrics import log_loss\n",
    "from sklearn.cross_validation import train_test_split\n",
    "import argparse\n",
    "import functools\n",
    "# Our features\n",
    "import feature_engineering\n",
    "# XGBoost library\n",
    "import xgboost as xgb\n",
    "from xgboost import XGBClassifier"
   ]
  },
  {
   "cell_type": "markdown",
   "metadata": {},
   "source": [
    "### Feature engineering "
   ]
  },
  {
   "cell_type": "code",
   "execution_count": 2,
   "metadata": {
    "ExecuteTime": {
     "end_time": "2018-01-30T17:26:45.509952Z",
     "start_time": "2018-01-30T17:26:06.451954Z"
    },
    "collapsed": true
   },
   "outputs": [],
   "source": [
    "initial_train, initial_test = feature_engineering.create_preprocessed_features()"
   ]
  },
  {
   "cell_type": "code",
   "execution_count": 5,
   "metadata": {
    "ExecuteTime": {
     "end_time": "2018-01-30T17:30:49.992387Z",
     "start_time": "2018-01-30T17:26:53.829680Z"
    }
   },
   "outputs": [
    {
     "name": "stderr",
     "output_type": "stream",
     "text": [
      "/home/alexattia/anaconda3/lib/python3.6/site-packages/sklearn/feature_extraction/text.py:1089: FutureWarning: Conversion of the second argument of issubdtype from `float` to `np.floating` is deprecated. In future, it will be treated as `np.float64 == np.dtype(float).type`.\n",
      "  if hasattr(X, 'dtype') and np.issubdtype(X.dtype, np.float):\n",
      "/home/alexattia/Work/work_env/lib/python3.6/site-packages/numpy/core/fromnumeric.py:2957: RuntimeWarning: Mean of empty slice.\n",
      "  out=out, **kwargs)\n",
      "/home/alexattia/Work/work_env/lib/python3.6/site-packages/numpy/core/_methods.py:80: RuntimeWarning: invalid value encountered in double_scalars\n",
      "  ret = ret.dtype.type(ret / rcount)\n"
     ]
    }
   ],
   "source": [
    "tfidf_train, tfidf_test = feature_engineering.create_tfidf_features()"
   ]
  },
  {
   "cell_type": "code",
   "execution_count": 6,
   "metadata": {
    "ExecuteTime": {
     "end_time": "2018-01-30T17:31:11.278927Z",
     "start_time": "2018-01-30T17:30:49.993160Z"
    },
    "collapsed": true
   },
   "outputs": [],
   "source": [
    "pr_train, pr_test = feature_engineering.create_pagerank_features()"
   ]
  },
  {
   "cell_type": "code",
   "execution_count": 8,
   "metadata": {
    "ExecuteTime": {
     "end_time": "2018-01-30T17:31:49.259843Z",
     "start_time": "2018-01-30T17:31:49.244421Z"
    },
    "collapsed": true
   },
   "outputs": [],
   "source": [
    "X_train = pd.concat([initial_train, tfidf_train, pr_train], axis=1)\n",
    "X_test = pd.concat([initial_test, tfidf_test, pr_test], axis=1)"
   ]
  },
  {
   "cell_type": "code",
   "execution_count": 9,
   "metadata": {
    "ExecuteTime": {
     "end_time": "2018-01-30T17:32:09.681434Z",
     "start_time": "2018-01-30T17:32:09.643543Z"
    },
    "collapsed": true
   },
   "outputs": [],
   "source": [
    "y_train = X_train.is_duplicate\n",
    "X_train = X_train.drop('is_duplicate', axis=1)"
   ]
  },
  {
   "cell_type": "code",
   "execution_count": 10,
   "metadata": {
    "ExecuteTime": {
     "end_time": "2018-01-30T17:32:12.815742Z",
     "start_time": "2018-01-30T17:32:12.787795Z"
    },
    "collapsed": true
   },
   "outputs": [],
   "source": [
    "X_train, X_valid, y_train, y_valid = train_test_split(X_train, y_train, test_size=0.1, random_state=4242)"
   ]
  },
  {
   "cell_type": "code",
   "execution_count": 11,
   "metadata": {
    "ExecuteTime": {
     "end_time": "2018-01-30T17:32:38.299908Z",
     "start_time": "2018-01-30T17:32:38.295347Z"
    }
   },
   "outputs": [
    {
     "data": {
      "text/plain": [
       "((72090, 59), (72090,), (8010, 59), (8010,))"
      ]
     },
     "execution_count": 11,
     "metadata": {},
     "output_type": "execute_result"
    }
   ],
   "source": [
    "X_train.shape, y_train.shape, X_valid.shape, y_valid.shape"
   ]
  },
  {
   "cell_type": "code",
   "execution_count": 15,
   "metadata": {
    "ExecuteTime": {
     "end_time": "2018-01-30T17:33:34.077190Z",
     "start_time": "2018-01-30T17:33:34.064795Z"
    },
    "collapsed": true
   },
   "outputs": [],
   "source": [
    "X_train = X_train.drop(['id', 'id1', 'id2', \"question1\", \"question2\"],\n",
    "                      axis=1)\n",
    "X_valid = X_valid.drop(['id', 'id1', 'id2', \"question1\", \"question2\"],\n",
    "                      axis=1)\n",
    "X_test = X_test.drop(['id', 'id1', 'id2', \"question1\", \"question2\"],\n",
    "                      axis=1)"
   ]
  },
  {
   "cell_type": "markdown",
   "metadata": {},
   "source": [
    "### XGBoost "
   ]
  },
  {
   "cell_type": "markdown",
   "metadata": {
    "ExecuteTime": {
     "end_time": "2018-01-30T15:39:01.121592Z",
     "start_time": "2018-01-30T15:39:01.120349Z"
    }
   },
   "source": [
    "#### Simple model"
   ]
  },
  {
   "cell_type": "code",
   "execution_count": 16,
   "metadata": {
    "ExecuteTime": {
     "end_time": "2018-01-30T17:33:44.634056Z",
     "start_time": "2018-01-30T17:33:44.584350Z"
    },
    "collapsed": true
   },
   "outputs": [],
   "source": [
    "# Finetuned parameters\n",
    "params = {}\n",
    "params['objective'] = 'binary:logistic'\n",
    "params['eval_metric'] = 'logloss'\n",
    "params['eta'] = 0.02\n",
    "params['n_jobs'] = 5\n",
    "params['max_depth'] = 6\n",
    "params['subsample'] = 0.6\n",
    "params['base_score'] = 0.2\n",
    "\n",
    "d_train = xgb.DMatrix(X_train, label=y_train)\n",
    "d_valid = xgb.DMatrix(X_valid, label=y_valid)\n",
    "\n",
    "watchlist = [(d_train, 'train'), (d_valid, 'valid')]"
   ]
  },
  {
   "cell_type": "code",
   "execution_count": 18,
   "metadata": {
    "ExecuteTime": {
     "end_time": "2018-01-30T17:34:17.708927Z",
     "start_time": "2018-01-30T17:34:17.704156Z"
    },
    "collapsed": true
   },
   "outputs": [],
   "source": [
    "bst = xgb.train(params, d_train, 2500, watchlist, early_stopping_rounds=50, verbose_eval=200)\n",
    "print(log_loss(y_valid, bst.predict(d_valid)))"
   ]
  },
  {
   "cell_type": "code",
   "execution_count": null,
   "metadata": {
    "collapsed": true
   },
   "outputs": [],
   "source": [
    "d_test = xgb.DMatrix(X_test)\n",
    "p_test = bst.predict(d_test, ntree_limit=bst.best_ntree_limit)"
   ]
  },
  {
   "cell_type": "markdown",
   "metadata": {},
   "source": [
    "#### Multi XGBoost for averaging"
   ]
  },
  {
   "cell_type": "code",
   "execution_count": null,
   "metadata": {
    "collapsed": true
   },
   "outputs": [],
   "source": [
    "df_tot = pd.DataFrame()\n",
    "for i in range(9):\n",
    "    np.random.seed(i+1)\n",
    "    params = {}\n",
    "    params['objective'] = 'binary:logistic'\n",
    "    params['eval_metric'] = 'logloss'\n",
    "    et = [.02,.025,.01,.015]\n",
    "    params['eta'] = np.random.choice(et)\n",
    "    params['n_jobs'] = 5\n",
    "    depth = [4,5,6,7]\n",
    "    params['max_depth'] = np.random.choice(depth)\n",
    "    sub = [.5,.6,.7,.4]\n",
    "    params['subsample'] = np.random.choice(sub)\n",
    "    params['base_score'] = 0.2\n",
    "    col = [1,.7]\n",
    "    params['colsample_bytree'] = np.random.choice(col)\n",
    "\n",
    "    d_train = xgb.DMatrix(X_train, label=y_train)\n",
    "    d_valid = xgb.DMatrix(X_valid, label=y_valid)\n",
    "\n",
    "    watchlist = [(d_train, 'train'), (d_valid, 'valid')]\n",
    "    bst = xgb.train(params, d_train, 2500, watchlist, early_stopping_rounds=50, verbose_eval=2500)\n",
    "\n",
    "    d_test = xgb.DMatrix(X_test)\n",
    "    p_test = bst.predict(d_test, ntree_limit=bst.best_ntree_limit)\n",
    "    df_tot[str('fold'+ str(i+1))] = p_test"
   ]
  },
  {
   "cell_type": "markdown",
   "metadata": {},
   "source": [
    "#### LSTM"
   ]
  },
  {
   "cell_type": "code",
   "execution_count": null,
   "metadata": {
    "collapsed": true
   },
   "outputs": [],
   "source": [
    "import Preprocessing\n",
    "data_1, data_2, test_data_1, test_data_2, test_ids, labels, word_index = Preprocessing.preprocessing()\n",
    "leaks, test_leaks = Preprocessing.load_leaky()\n",
    "\n",
    "data = Preprocessing.input_nn_data(data_1, data_2, test_data_1, test_data_2, test_ids, labels, leaks, test_leaks)\n",
    "data_1_train = data[\"data_1_train\"] \n",
    "data_2_train = data[\"data_2_train\"] \n",
    "leaks_train = data[\"leaks_train\"]\n",
    "labels_train = data[\"labels_train\"]\n",
    "data_1_val = data[\"data_1_val\"]\n",
    "data_2_val = data[\"data_2_val\"]\n",
    "leaks_val = data[\"leaks_val\"]\n",
    "labels_val = data[\"labels_val\"]\n",
    "weight_val = data[\"weight_val\"]\n",
    "test = data[\"test\"]"
   ]
  },
  {
   "cell_type": "markdown",
   "metadata": {},
   "source": [
    "##### Word Embedding\n",
    "Glove link https://nlp.stanford.edu/projects/glove/"
   ]
  },
  {
   "cell_type": "code",
   "execution_count": null,
   "metadata": {
    "collapsed": true
   },
   "outputs": [],
   "source": [
    "from keras.layers import Dense, Input, LSTM, Embedding, Dropout, Activation, merge\n",
    "from keras.models import Model\n",
    "from keras.layers.normalization import BatchNormalization\n",
    "from keras.callbacks import EarlyStopping, ModelCheckpoint\n",
    "import numpy as np\n",
    "from __future__ import division, print_function\n",
    "# Garbage Collection\n",
    "import gc\n",
    "\n",
    "embedding_index = Preprocessing.Glove_Indexing()\n",
    "embedding_matrix = Preprocessing.Words_Embedding(word_index, embedding_index)"
   ]
  },
  {
   "cell_type": "code",
   "execution_count": null,
   "metadata": {
    "collapsed": true
   },
   "outputs": [],
   "source": [
    "EMBEDDING_DIM = 300\n",
    "MAX_SEQUENCE_LENGTH = 144180\n",
    "# words to vector in glovespace\n",
    "embedding_layer = Embedding(20355,\n",
    "                            EMBEDDING_DIM,\n",
    "                            weights=[embedding_matrix],\n",
    "                            input_length=MAX_SEQUENCE_LENGTH,\n",
    "                            trainable=False,\n",
    "                           dropout=0.2)\n",
    "gc.collect()"
   ]
  },
  {
   "cell_type": "code",
   "execution_count": null,
   "metadata": {
    "collapsed": true
   },
   "outputs": [],
   "source": [
    "act = 'relu'\n",
    "test_ids = test.test_id\n",
    "# seed\n",
    "i=5\n",
    "np.random.seed(i)\n",
    "print ('fold = ' + str(i))\n",
    "print ('--> Initializing')\n",
    "#initialize with random values every time with different seed\n",
    "num_lstm = np.random.randint(175, 275)\n",
    "num_dense = np.random.randint(100, 150)\n",
    "rate_drop_lstm = 0.15 + np.random.rand() * 0.25\n",
    "rate_drop_dense = 0.15 + np.random.rand() * 0.25\n",
    "lstm_drp = 0.15 + np.random.rand() * 0.25\n",
    "leak_drp = 0.15 + np.random.rand() * 0.25\n",
    "gc.collect()\n",
    "#----------------------------------------------------------------------------------\n",
    "#model structure\n",
    "lstm_layer = LSTM(num_lstm, dropout_W=rate_drop_lstm, dropout_U=rate_drop_lstm)\n",
    "\n",
    "sequence_1_input = Input(shape=(40,), dtype='int32')\n",
    "embedded_sequences_1 = embedding_layer(sequence_1_input)\n",
    "x1 = lstm_layer(embedded_sequences_1)\n",
    "x1 = Dropout(lstm_drp)(x1)\n",
    "\n",
    "sequence_2_input = Input(shape=(40,), dtype='int32')\n",
    "embedded_sequences_2 = embedding_layer(sequence_2_input)\n",
    "y1 = lstm_layer(embedded_sequences_2)\n",
    "y1 = Dropout(lstm_drp)(y1)\n",
    "\n",
    "leaks_input = Input(shape=(leaks_train.shape[1],))\n",
    "leaks_dense = Dense(int(num_dense/2), activation=act)(leaks_input)\n",
    "leaks_dense = Dropout(leak_drp)(leaks_dense)\n",
    "\n",
    "merged = merge([x1, y1, leaks_dense],'concat')\n",
    "merged = Dropout(rate_drop_dense)(merged)\n",
    "merged = BatchNormalization()(merged)\n",
    "\n",
    "merged = Dense(num_dense, activation=act)(merged)\n",
    "merged = Dropout(rate_drop_dense)(merged)\n",
    "merged = BatchNormalization()(merged)\n",
    "preds = Dense(1, activation='sigmoid')(merged)\n",
    "\n",
    "class_weight = None\n",
    "weight_val = np.ones(len(labels_val))\n",
    "\n",
    "print ('--> Model Created')\n",
    "#----------------------------------------------------------------------------------\n",
    "model = Model([sequence_1_input, sequence_2_input, leaks_input], preds)\n",
    "model.compile(loss='binary_crossentropy',metrics=['acc'], optimizer='nadam')\n",
    "\n",
    "early_stopping =EarlyStopping(monitor='val_loss', patience=3)\n",
    "bst_model_path = 'fold' + str(i) + '.h5'\n",
    "model_checkpoint = ModelCheckpoint(bst_model_path, save_best_only=True, save_weights_only=True)\n",
    "print('--> Model Compiled')\n",
    "#----------------------------------------------------------------------------------\n",
    "gc.collect()\n",
    "hist = model.fit([data_1_train, data_2_train, leaks_train], labels_train,\n",
    "                 validation_data=([data_1_val, data_2_val, leaks_val], labels_val, weight_val),\n",
    "                 nb_epoch=50, batch_size=2048, shuffle=True, verbose=2,\n",
    "                 class_weight=class_weight, callbacks=[early_stopping, model_checkpoint])\n",
    "#----------------------------------------------------------------------------------\n",
    "print('--> Testing')\n",
    "model.load_weights('fold' + str(i) + '.h5')\n",
    "predictions = model.predict([test_data_1, test_data_2, test_leaks], batch_size=2000, verbose=0)\n",
    "predictions += model.predict([test_data_1, test_data_2, test_leaks], batch_size=2000, verbose=0)\n",
    "predictions /= 2\n",
    "#----------------------------------------------------------------------------------\n",
    "score = pd.DataFrame()\n",
    "score[\"score\"] = predictions\n",
    "score.to_csv(\"final.csv\")"
   ]
  },
  {
   "cell_type": "markdown",
   "metadata": {},
   "source": [
    "#### Averaging"
   ]
  },
  {
   "cell_type": "code",
   "execution_count": null,
   "metadata": {
    "collapsed": true
   },
   "outputs": [],
   "source": [
    "sub1 = pd.read_csv('final.csv')\n",
    "sub2 = pd.read_csv('xgb_final.csv')\n",
    "sub2[\"Lstm\"] = sub1[\"Score1\"]\n",
    "sub2[\"Lstm2\"] = sub1[\"Score1\"]\n",
    "dup = sub2.mean(axis = 1)\n",
    "dup.to_csv('sub_final3.csv')"
   ]
  }
 ],
 "metadata": {
  "kernelspec": {
   "display_name": "Python 3",
   "language": "python",
   "name": "python3"
  },
  "language_info": {
   "codemirror_mode": {
    "name": "ipython",
    "version": 3
   },
   "file_extension": ".py",
   "mimetype": "text/x-python",
   "name": "python",
   "nbconvert_exporter": "python",
   "pygments_lexer": "ipython3",
   "version": "3.6.3"
  },
  "toc": {
   "nav_menu": {},
   "number_sections": true,
   "sideBar": true,
   "skip_h1_title": false,
   "toc_cell": false,
   "toc_position": {},
   "toc_section_display": "block",
   "toc_window_display": false
  }
 },
 "nbformat": 4,
 "nbformat_minor": 2
}
